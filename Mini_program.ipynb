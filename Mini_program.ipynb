{
 "cells": [
  {
   "cell_type": "code",
   "execution_count": null,
   "metadata": {},
   "outputs": [],
   "source": [
    "guid ={\n",
    "    0 : 'quit' ,\n",
    "    1 : 'check if I know you' , \n",
    "    2 : 'Introduce yourself' , \n",
    "    3 : 'make me forget you' , \n",
    "    4 : 'list of people I know' ,\n",
    "}\n",
    "guid = '\\n'.join([f'{key} - {value}' for key , value in guid.items()])\n",
    "\n",
    "namelist =[]\n",
    "\n",
    "while True:\n",
    "    selected_opstion = int(input('Enter your number from guid: '))\n",
    "\n",
    "    \n",
    "    if selected_opstion == 0:\n",
    "        print('>>>Bye! \\n')\n",
    "        break\n",
    "    elif selected_opstion == 1:\n",
    "        name = input('>>>Enter your name: ')\n",
    "        if name in namelist:\n",
    "            print('>>>I know you :D  \\n')\n",
    "        else:\n",
    "            print(\">>>I don't know you :/   \\n\")\n",
    "                  \n",
    "    elif selected_opstion == 2:\n",
    "        name = input('>>>Enter your name: ')\n",
    "        if name in namelist:\n",
    "            print('>>>I knew you already  \\n')\n",
    "        else:\n",
    "            namelist.append(name)\n",
    "            print('>>>Now I know you!  \\n')\n",
    "\n",
    "    elif selected_opstion == 3:\n",
    "        name = input('Enter your name: ')\n",
    "        if name in namelist:\n",
    "            namelist.remove(name)\n",
    "            print(\">>>Now I don't know you  \\n\")\n",
    "\n",
    "        else:\n",
    "            print(\">>>I already didn't know you  \\n\")\n",
    "            \n",
    "    elif selected_opstion == 4:\n",
    "        print(namelist)"
   ]
  }
 ],
 "metadata": {
  "language_info": {
   "name": "python"
  }
 },
 "nbformat": 4,
 "nbformat_minor": 2
}
